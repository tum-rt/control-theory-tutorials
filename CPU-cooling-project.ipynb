{
 "cells": [
  {
   "cell_type": "markdown",
   "metadata": {},
   "source": [
    "# CPU cooling tutorial \n",
    "\n",
    "## List of contents\n",
    "\n",
    "## Introduction\n",
    " - Content\n",
    " - Goals\n",
    " \n",
    "## Requirements\n",
    "### 1. Software\n",
    " - Arduino\n",
    " - Python\n",
    " \n",
    "### 2. Hardware\n",
    " - Arduino hardware, wires\n",
    " - Casings\n",
    " \n",
    "## Tutorial\n",
    "\n",
    "### Schematic/Circuit\n",
    "\n",
    "\n",
    "\n",
    "## Excercises\n",
    "### 1. Feedback control\n",
    "### 2. Feed forward control\n",
    "\n",
    "\n"
   ]
  },
  {
   "cell_type": "code",
   "execution_count": null,
   "metadata": {
    "collapsed": true
   },
   "outputs": [],
   "source": []
  },
  {
   "cell_type": "code",
   "execution_count": null,
   "metadata": {
    "collapsed": true
   },
   "outputs": [],
   "source": []
  },
  {
   "cell_type": "code",
   "execution_count": null,
   "metadata": {
    "collapsed": true
   },
   "outputs": [],
   "source": []
  },
  {
   "cell_type": "code",
   "execution_count": null,
   "metadata": {
    "collapsed": true
   },
   "outputs": [],
   "source": []
  }
 ],
 "metadata": {
  "kernelspec": {
   "display_name": "Python 3",
   "language": "python",
   "name": "python3"
  },
  "language_info": {
   "codemirror_mode": {
    "name": "ipython",
    "version": 3
   },
   "file_extension": ".py",
   "mimetype": "text/x-python",
   "name": "python",
   "nbconvert_exporter": "python",
   "pygments_lexer": "ipython3",
   "version": "3.6.0"
  }
 },
 "nbformat": 4,
 "nbformat_minor": 2
}
